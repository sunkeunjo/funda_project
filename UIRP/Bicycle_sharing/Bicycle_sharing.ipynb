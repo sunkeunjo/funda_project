{
 "cells": [
  {
   "cell_type": "code",
   "execution_count": 4,
   "metadata": {},
   "outputs": [],
   "source": [
    "import pandas as pd \n",
    "# (\"./data/etl_ymd.csv\")# 주말인지 아닌지 \n",
    "# (\"./data/\"id_WGS.csv) #위도 경도 데이터\n",
    "dir_=\"./ulsan_namgu/\""
   ]
  },
  {
   "cell_type": "code",
   "execution_count": null,
   "metadata": {},
   "outputs": [],
   "source": [
    "df=pd.read_csv(dir_+\"ULSAN_NG_201806.csv\")\n",
    "df.head()"
   ]
  },
  {
   "cell_type": "code",
   "execution_count": 7,
   "metadata": {},
   "outputs": [],
   "source": []
  },
  {
   "cell_type": "markdown",
   "metadata": {},
   "source": [
    "# Introduction\n",
    "\n",
    "공유 자전거 재배치 전략 수립 연구\n",
    "\n",
    "- [ ] DB 구축 \n",
    "- [ ] 유동인구 경로 예측\n",
    "- [ ] 재배치 전략 수립\n",
    "\n",
    "\n",
    "# 0. DB 구축\n",
    "\n",
    "https://github.com/sugyeong-jo/Bicycle_sharing/blob/master/data/DB.md\n",
    "\n",
    "- [ ] 4월 13일\n",
    "\n",
    "## 0-1. pydec \n",
    "- 관련 예제 정리 \n",
    "- [ ] 4월 13일\n",
    "\n",
    "\n",
    "# 1. 유동인구 경로 예측\n",
    "\n",
    "## 1-1. 유동인구 수 예측\n",
    "- 뉴럴 네트워크를 이용한 유동인구 수 예측\n",
    "- pytorch 이용 예정\n",
    "- [ ] 4월 20일\n",
    "\n",
    "## 1-2. 유동인구 경로 예측\n",
    "- gravity spatial interaction model\n",
    "- key word: gravity spatial interaction model, OD flow, Dynamic OD estimation, ...\n",
    "- [ ] 4월 27일\n",
    "\n",
    "# 2. 경로에 따른 배터리 예측 시뮬레이션\n",
    "- 시뮬레이션 논문 찾고 구현\n",
    "- [ ] 5월 4일\n",
    "\n",
    "# 3. 재배치 전략 수립\n",
    "- Dynamic pricing model\n",
    "    > Gig economy!\n",
    "\n",
    "    > 택배\n",
    "- Vehicle routing problem \n",
    "- Equilibrium model\n",
    "- [ ] 매 중 2개 이상 찾고 정리하기\n",
    "- [ ] 5월 11일 간단한 예제 만들기\n",
    "- [ ] 5월 17일 두 가지에 대한 간단한 예제 만들기\n",
    "- [ ] 5월 24일 equilibrium model 예제 만들기\n",
    "\n",
    "\n",
    "\n",
    "\n",
    "\n"
   ]
  }
 ],
 "metadata": {
  "kernelspec": {
   "display_name": "Python 3",
   "language": "python",
   "name": "python3"
  },
  "language_info": {
   "codemirror_mode": {
    "name": "ipython",
    "version": 3
   },
   "file_extension": ".py",
   "mimetype": "text/x-python",
   "name": "python",
   "nbconvert_exporter": "python",
   "pygments_lexer": "ipython3",
   "version": "3.7.1"
  }
 },
 "nbformat": 4,
 "nbformat_minor": 2
}
