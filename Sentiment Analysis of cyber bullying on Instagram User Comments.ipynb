{
 "cells": [
  {
   "cell_type": "markdown",
   "metadata": {},
   "source": [
    "# Sentiment Analysis of cyber bullying on Instagram User Comments\n",
    "\n",
    "_Alhamda et al (2019, journal of Data Science and Its Application)_\n",
    "\n",
    "## Abstract \n",
    "\n",
    "instgram does not provide a feature to detect cyberbullying on the comments. This study aims to create a system that can satisfy results of the classification of comments whether they contain element of cyberbullying or not. \n",
    "> preprocessing -> tfidf tokenization -> kfold cross validation -> naive bayes classification \n",
    "\n",
    "## Introduction\n",
    "\n",
    "### Instagram \n",
    "* photo or video based social media can be used freely\n",
    "* many active users from all walks of life, ranging from ordinary users, artists, public figures to state officials.\n",
    "* Every Instagram user can give likes and comments to posts that has been share. \n",
    "* However, instagram is also ranked first as the most widely used social media for cyberbullying.\n",
    "* Sentiment analysis or opinion mining은 understanding, extracting and processingf textual data automatically to get sentiment information contained in an opinion sentence.\n",
    "> in the study, researcher used Naiive bayes and to label the data they used Sentiaji and Bachtiar\n",
    "\n",
    "## Related works \n",
    "\n",
    "* 나이브 베이즈 분류기 (트위터 메시지 분류)\n",
    "* KNN 분류(트위터 메시지 분류)\n",
    "* SVM (트위터 분류)\n",
    "\n",
    "## Research Method \n",
    "\n",
    "* Data Collection : Instagram API library\n",
    "* Data Labelling :cyberbullying and not cyberbullying \n",
    "* Preprocessing : Folding case(lowercase letter) -> Cleansing(various symbol) -> Tokenizing -> Word replacer(typo) ->  Stop words Removal -> Stemming \n",
    "* Feature Extraction : TF-IDF\n",
    "* Classification :나이브 베이즈 \n",
    "\n",
    "## Result and Discussion \n"
   ]
  }
 ],
 "metadata": {
  "kernelspec": {
   "display_name": "Python 3",
   "language": "python",
   "name": "python3"
  },
  "language_info": {
   "codemirror_mode": {
    "name": "ipython",
    "version": 3
   },
   "file_extension": ".py",
   "mimetype": "text/x-python",
   "name": "python",
   "nbconvert_exporter": "python",
   "pygments_lexer": "ipython3",
   "version": "3.7.6"
  }
 },
 "nbformat": 4,
 "nbformat_minor": 4
}
