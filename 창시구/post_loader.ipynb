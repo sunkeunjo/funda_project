{
 "cells": [
  {
   "cell_type": "code",
   "execution_count": 1,
   "metadata": {},
   "outputs": [
    {
     "name": "stderr",
     "output_type": "stream",
     "text": [
      "C:\\Users\\sunkeun_jo\\anaconda3\\lib\\site-packages\\win_unicode_console\\__init__.py:31: RuntimeWarning: sys.stdin.encoding == 'cp949', whereas sys.stdout.encoding == 'UTF-8', readline hook consumer may assume they are the same\n",
      "  readline_hook.enable(use_pyreadline=use_pyreadline)\n"
     ]
    },
    {
     "name": "stdout",
     "output_type": "stream",
     "text": [
      "sunkeun_\n"
     ]
    }
   ],
   "source": [
    "import instaloader \n",
    "\n",
    "L=instaloader.Instaloader(download_pictures=False,download_video_thumbnails=False,download_videos=False,download_geotags=True,download_comments=True)\n",
    "\n",
    "L.login(\"sunkeun_\",\"dhrguswm1!\")\n",
    "print(L.context.username)"
   ]
  },
  {
   "cell_type": "code",
   "execution_count": 2,
   "metadata": {},
   "outputs": [
    {
     "name": "stdout",
     "output_type": "stream",
     "text": [
      "fetching all posts of a profile hyatt\n"
     ]
    }
   ],
   "source": [
    "profile= instaloader.Profile.from_username(L.context,\"hyatt\")\n",
    "post_list=[]\n",
    "\n",
    "# hilton의 모든 post를 한 번 뽑아보도록 하겠습니다\n",
    "print(\"fetching all posts of a profile {}\".format(profile.username))"
   ]
  },
  {
   "cell_type": "code",
   "execution_count": 4,
   "metadata": {},
   "outputs": [
    {
     "name": "stderr",
     "output_type": "stream",
     "text": [
      "963it [00:39, 31.17it/s]"
     ]
    },
    {
     "name": "stdout",
     "output_type": "stream",
     "text": [
      "\n",
      "Too many queries in the last time. Need to wait 622 seconds, until 21:18.\n"
     ]
    },
    {
     "name": "stderr",
     "output_type": "stream",
     "text": [
      "1467it [11:27,  2.13it/s]\n"
     ]
    },
    {
     "data": {
      "text/html": [
       "<div>\n",
       "<style scoped>\n",
       "    .dataframe tbody tr th:only-of-type {\n",
       "        vertical-align: middle;\n",
       "    }\n",
       "\n",
       "    .dataframe tbody tr th {\n",
       "        vertical-align: top;\n",
       "    }\n",
       "\n",
       "    .dataframe thead th {\n",
       "        text-align: right;\n",
       "    }\n",
       "</style>\n",
       "<table border=\"1\" class=\"dataframe\">\n",
       "  <thead>\n",
       "    <tr style=\"text-align: right;\">\n",
       "      <th></th>\n",
       "      <th>date</th>\n",
       "      <th>caption</th>\n",
       "    </tr>\n",
       "  </thead>\n",
       "  <tbody>\n",
       "    <tr>\n",
       "      <th>0</th>\n",
       "      <td>2020-04-19 14:07:37</td>\n",
       "      <td>We want to provide inspiration for your next v...</td>\n",
       "    </tr>\n",
       "    <tr>\n",
       "      <th>1</th>\n",
       "      <td>2020-04-18 14:04:37</td>\n",
       "      <td>Reminders to unplug and stay present are espec...</td>\n",
       "    </tr>\n",
       "    <tr>\n",
       "      <th>2</th>\n",
       "      <td>2020-04-17 14:07:08</td>\n",
       "      <td>Caring For Our Community: @grandhyattsd creati...</td>\n",
       "    </tr>\n",
       "    <tr>\n",
       "      <th>3</th>\n",
       "      <td>2020-04-16 15:26:35</td>\n",
       "      <td>Caring For Our Colleagues: @miravalresorts Aus...</td>\n",
       "    </tr>\n",
       "    <tr>\n",
       "      <th>4</th>\n",
       "      <td>2020-04-14 14:03:22</td>\n",
       "      <td>In a dedicated effort to help our colleagues w...</td>\n",
       "    </tr>\n",
       "  </tbody>\n",
       "</table>\n",
       "</div>"
      ],
      "text/plain": [
       "                 date                                            caption\n",
       "0 2020-04-19 14:07:37  We want to provide inspiration for your next v...\n",
       "1 2020-04-18 14:04:37  Reminders to unplug and stay present are espec...\n",
       "2 2020-04-17 14:07:08  Caring For Our Community: @grandhyattsd creati...\n",
       "3 2020-04-16 15:26:35  Caring For Our Colleagues: @miravalresorts Aus...\n",
       "4 2020-04-14 14:03:22  In a dedicated effort to help our colleagues w..."
      ]
     },
     "execution_count": 4,
     "metadata": {},
     "output_type": "execute_result"
    }
   ],
   "source": [
    "import pandas as pd \n",
    "import tqdm\n",
    "contend_list=[]\n",
    "post_list=[]\n",
    "for post in tqdm.tqdm(profile.get_posts()):\n",
    "    contend_list.append([post.date,post.caption])\n",
    "    \n",
    "df=pd.DataFrame(contend_list,columns=[\"date\",\"caption\"])\n",
    "df.to_csv(\"hyatt_post\",encoding=\"utf-8\")\n",
    "df.head()"
   ]
  },
  {
   "cell_type": "code",
   "execution_count": 5,
   "metadata": {},
   "outputs": [
    {
     "name": "stderr",
     "output_type": "stream",
     "text": [
      "\r",
      "0it [00:00, ?it/s]"
     ]
    },
    {
     "name": "stdout",
     "output_type": "stream",
     "text": [
      "fetching all posts of a profile hilton\n"
     ]
    },
    {
     "name": "stderr",
     "output_type": "stream",
     "text": [
      "70it [00:02, 33.06it/s]\n"
     ]
    },
    {
     "data": {
      "text/html": [
       "<div>\n",
       "<style scoped>\n",
       "    .dataframe tbody tr th:only-of-type {\n",
       "        vertical-align: middle;\n",
       "    }\n",
       "\n",
       "    .dataframe tbody tr th {\n",
       "        vertical-align: top;\n",
       "    }\n",
       "\n",
       "    .dataframe thead th {\n",
       "        text-align: right;\n",
       "    }\n",
       "</style>\n",
       "<table border=\"1\" class=\"dataframe\">\n",
       "  <thead>\n",
       "    <tr style=\"text-align: right;\">\n",
       "      <th></th>\n",
       "      <th>date</th>\n",
       "      <th>caption</th>\n",
       "    </tr>\n",
       "  </thead>\n",
       "  <tbody>\n",
       "    <tr>\n",
       "      <th>0</th>\n",
       "      <td>2020-04-15 16:01:01</td>\n",
       "      <td>Miss this year’s Cherry Blossom festival in DC...</td>\n",
       "    </tr>\n",
       "    <tr>\n",
       "      <th>1</th>\n",
       "      <td>2020-04-12 21:52:27</td>\n",
       "      <td>As we dream of the day we can once again explo...</td>\n",
       "    </tr>\n",
       "    <tr>\n",
       "      <th>2</th>\n",
       "      <td>2020-04-09 16:33:28</td>\n",
       "      <td>Over the past few weeks, we’ve gotten lots of ...</td>\n",
       "    </tr>\n",
       "    <tr>\n",
       "      <th>3</th>\n",
       "      <td>2020-04-06 12:37:22</td>\n",
       "      <td>One million ‘thank-yous’ to the frontline medi...</td>\n",
       "    </tr>\n",
       "    <tr>\n",
       "      <th>4</th>\n",
       "      <td>2020-04-03 15:31:01</td>\n",
       "      <td>We’re joining with hotels across the world to ...</td>\n",
       "    </tr>\n",
       "  </tbody>\n",
       "</table>\n",
       "</div>"
      ],
      "text/plain": [
       "                 date                                            caption\n",
       "0 2020-04-15 16:01:01  Miss this year’s Cherry Blossom festival in DC...\n",
       "1 2020-04-12 21:52:27  As we dream of the day we can once again explo...\n",
       "2 2020-04-09 16:33:28  Over the past few weeks, we’ve gotten lots of ...\n",
       "3 2020-04-06 12:37:22  One million ‘thank-yous’ to the frontline medi...\n",
       "4 2020-04-03 15:31:01  We’re joining with hotels across the world to ..."
      ]
     },
     "execution_count": 5,
     "metadata": {},
     "output_type": "execute_result"
    }
   ],
   "source": [
    "profile= instaloader.Profile.from_username(L.context,\"hilton\")\n",
    "post_list=[]\n",
    "\n",
    "# hilton의 모든 post를 한 번 뽑아보도록 하겠습니다\n",
    "print(\"fetching all posts of a profile {}\".format(profile.username))\n",
    "\n",
    "import pandas as pd \n",
    "import tqdm\n",
    "contend_list=[]\n",
    "post_list=[]\n",
    "for post in tqdm.tqdm(profile.get_posts()):\n",
    "    contend_list.append([post.date,post.caption])\n",
    "    \n",
    "df=pd.DataFrame(contend_list,columns=[\"date\",\"caption\"])\n",
    "df.to_csv(\"hilton_caption\",encoding=\"utf-8\")\n",
    "df.head()"
   ]
  },
  {
   "cell_type": "code",
   "execution_count": 6,
   "metadata": {},
   "outputs": [
    {
     "name": "stderr",
     "output_type": "stream",
     "text": [
      "\r",
      "0it [00:00, ?it/s]"
     ]
    },
    {
     "name": "stdout",
     "output_type": "stream",
     "text": [
      "fetching all posts of a profile holidayinn\n"
     ]
    },
    {
     "name": "stderr",
     "output_type": "stream",
     "text": [
      "363it [00:14, 29.81it/s]"
     ]
    },
    {
     "name": "stdout",
     "output_type": "stream",
     "text": [
      "\n",
      "Too many queries in the last time. Need to wait 624 seconds, until 21:30.\n"
     ]
    },
    {
     "name": "stderr",
     "output_type": "stream",
     "text": [
      "670it [10:55,  1.02it/s]\n"
     ]
    },
    {
     "data": {
      "text/html": [
       "<div>\n",
       "<style scoped>\n",
       "    .dataframe tbody tr th:only-of-type {\n",
       "        vertical-align: middle;\n",
       "    }\n",
       "\n",
       "    .dataframe tbody tr th {\n",
       "        vertical-align: top;\n",
       "    }\n",
       "\n",
       "    .dataframe thead th {\n",
       "        text-align: right;\n",
       "    }\n",
       "</style>\n",
       "<table border=\"1\" class=\"dataframe\">\n",
       "  <thead>\n",
       "    <tr style=\"text-align: right;\">\n",
       "      <th></th>\n",
       "      <th>date</th>\n",
       "      <th>caption</th>\n",
       "    </tr>\n",
       "  </thead>\n",
       "  <tbody>\n",
       "    <tr>\n",
       "      <th>0</th>\n",
       "      <td>2020-04-16 17:34:06</td>\n",
       "      <td>In support of our frontline first responders, ...</td>\n",
       "    </tr>\n",
       "    <tr>\n",
       "      <th>1</th>\n",
       "      <td>2020-04-07 12:37:02</td>\n",
       "      <td>Given the uncertainty around COVID-19 and the ...</td>\n",
       "    </tr>\n",
       "    <tr>\n",
       "      <th>2</th>\n",
       "      <td>2020-03-31 14:09:16</td>\n",
       "      <td>Caring for people is what we do in hospitality...</td>\n",
       "    </tr>\n",
       "    <tr>\n",
       "      <th>3</th>\n",
       "      <td>2020-03-06 17:10:13</td>\n",
       "      <td>It's finally Friday! Nothing like that #Friday...</td>\n",
       "    </tr>\n",
       "    <tr>\n",
       "      <th>4</th>\n",
       "      <td>2020-02-27 21:06:10</td>\n",
       "      <td>How many times have you wished for an extra da...</td>\n",
       "    </tr>\n",
       "  </tbody>\n",
       "</table>\n",
       "</div>"
      ],
      "text/plain": [
       "                 date                                            caption\n",
       "0 2020-04-16 17:34:06  In support of our frontline first responders, ...\n",
       "1 2020-04-07 12:37:02  Given the uncertainty around COVID-19 and the ...\n",
       "2 2020-03-31 14:09:16  Caring for people is what we do in hospitality...\n",
       "3 2020-03-06 17:10:13  It's finally Friday! Nothing like that #Friday...\n",
       "4 2020-02-27 21:06:10  How many times have you wished for an extra da..."
      ]
     },
     "execution_count": 6,
     "metadata": {},
     "output_type": "execute_result"
    }
   ],
   "source": [
    "profile= instaloader.Profile.from_username(L.context,\"holidayinn\")\n",
    "post_list=[]\n",
    "\n",
    "# hilton의 모든 post를 한 번 뽑아보도록 하겠습니다\n",
    "print(\"fetching all posts of a profile {}\".format(profile.username))\n",
    "\n",
    "import pandas as pd \n",
    "import tqdm\n",
    "contend_list=[]\n",
    "post_list=[]\n",
    "for post in tqdm.tqdm(profile.get_posts()):\n",
    "    contend_list.append([post.date,post.caption])\n",
    "    \n",
    "df=pd.DataFrame(contend_list,columns=[\"date\",\"caption\"])\n",
    "df.to_csv(\"holiday_post\",encoding=\"utf-8\")\n",
    "df.head()"
   ]
  },
  {
   "cell_type": "code",
   "execution_count": 7,
   "metadata": {},
   "outputs": [
    {
     "name": "stderr",
     "output_type": "stream",
     "text": [
      "\r",
      "0it [00:00, ?it/s]"
     ]
    },
    {
     "name": "stdout",
     "output_type": "stream",
     "text": [
      "fetching all posts of a profile wyndham\n"
     ]
    },
    {
     "name": "stderr",
     "output_type": "stream",
     "text": [
      "382it [00:21, 17.66it/s]\n"
     ]
    },
    {
     "data": {
      "text/html": [
       "<div>\n",
       "<style scoped>\n",
       "    .dataframe tbody tr th:only-of-type {\n",
       "        vertical-align: middle;\n",
       "    }\n",
       "\n",
       "    .dataframe tbody tr th {\n",
       "        vertical-align: top;\n",
       "    }\n",
       "\n",
       "    .dataframe thead th {\n",
       "        text-align: right;\n",
       "    }\n",
       "</style>\n",
       "<table border=\"1\" class=\"dataframe\">\n",
       "  <thead>\n",
       "    <tr style=\"text-align: right;\">\n",
       "      <th></th>\n",
       "      <th>date</th>\n",
       "      <th>caption</th>\n",
       "    </tr>\n",
       "  </thead>\n",
       "  <tbody>\n",
       "    <tr>\n",
       "      <th>0</th>\n",
       "      <td>2020-04-17 14:37:53</td>\n",
       "      <td>The safety of our guests and team members arou...</td>\n",
       "    </tr>\n",
       "    <tr>\n",
       "      <th>1</th>\n",
       "      <td>2020-04-17 03:24:19</td>\n",
       "      <td>We are—and always have been—committed to makin...</td>\n",
       "    </tr>\n",
       "    <tr>\n",
       "      <th>2</th>\n",
       "      <td>2020-04-16 21:19:09</td>\n",
       "      <td>Calling all essential workers: In honor of our...</td>\n",
       "    </tr>\n",
       "    <tr>\n",
       "      <th>3</th>\n",
       "      <td>2020-03-25 14:24:25</td>\n",
       "      <td>The safety of our guests and team members arou...</td>\n",
       "    </tr>\n",
       "    <tr>\n",
       "      <th>4</th>\n",
       "      <td>2020-03-11 17:17:22</td>\n",
       "      <td>After spending 10 hours hopping from ride to r...</td>\n",
       "    </tr>\n",
       "  </tbody>\n",
       "</table>\n",
       "</div>"
      ],
      "text/plain": [
       "                 date                                            caption\n",
       "0 2020-04-17 14:37:53  The safety of our guests and team members arou...\n",
       "1 2020-04-17 03:24:19  We are—and always have been—committed to makin...\n",
       "2 2020-04-16 21:19:09  Calling all essential workers: In honor of our...\n",
       "3 2020-03-25 14:24:25  The safety of our guests and team members arou...\n",
       "4 2020-03-11 17:17:22  After spending 10 hours hopping from ride to r..."
      ]
     },
     "execution_count": 7,
     "metadata": {},
     "output_type": "execute_result"
    }
   ],
   "source": [
    "profile= instaloader.Profile.from_username(L.context,\"wyndham\")\n",
    "post_list=[]\n",
    "\n",
    "# hilton의 모든 post를 한 번 뽑아보도록 하겠습니다\n",
    "print(\"fetching all posts of a profile {}\".format(profile.username))\n",
    "\n",
    "import pandas as pd \n",
    "import tqdm\n",
    "contend_list=[]\n",
    "post_list=[]\n",
    "for post in tqdm.tqdm(profile.get_posts()):\n",
    "    contend_list.append([post.date,post.caption])\n",
    "    \n",
    "df=pd.DataFrame(contend_list,columns=[\"date\",\"caption\"])\n",
    "df.to_csv(\"wyndham_post\",encoding=\"utf-8\")\n",
    "df.head()"
   ]
  },
  {
   "cell_type": "code",
   "execution_count": null,
   "metadata": {},
   "outputs": [],
   "source": []
  },
  {
   "cell_type": "code",
   "execution_count": null,
   "metadata": {},
   "outputs": [],
   "source": []
  }
 ],
 "metadata": {
  "kernelspec": {
   "display_name": "Python 3",
   "language": "python",
   "name": "python3"
  },
  "language_info": {
   "codemirror_mode": {
    "name": "ipython",
    "version": 3
   },
   "file_extension": ".py",
   "mimetype": "text/x-python",
   "name": "python",
   "nbconvert_exporter": "python",
   "pygments_lexer": "ipython3",
   "version": "3.7.6"
  }
 },
 "nbformat": 4,
 "nbformat_minor": 4
}
