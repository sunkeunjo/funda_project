{
 "cells": [
  {
   "cell_type": "code",
   "execution_count": 1,
   "metadata": {},
   "outputs": [
    {
     "name": "stderr",
     "output_type": "stream",
     "text": [
      "C:\\Users\\sunkeun_jo\\anaconda3\\lib\\site-packages\\win_unicode_console\\__init__.py:31: RuntimeWarning: sys.stdin.encoding == 'cp949', whereas sys.stdout.encoding == 'UTF-8', readline hook consumer may assume they are the same\n",
      "  readline_hook.enable(use_pyreadline=use_pyreadline)\n"
     ]
    },
    {
     "name": "stdout",
     "output_type": "stream",
     "text": [
      "sunkeun_\n"
     ]
    }
   ],
   "source": [
    "import instaloader \n",
    "\n",
    "L=instaloader.Instaloader(download_pictures=False,download_video_thumbnails=False,download_videos=False,download_geotags=True,download_comments=True)\n",
    "\n",
    "L.login(\"sunkeun_\",\"dhrguswm1!\")\n",
    "print(L.context.username)"
   ]
  },
  {
   "cell_type": "code",
   "execution_count": 2,
   "metadata": {},
   "outputs": [
    {
     "name": "stdout",
     "output_type": "stream",
     "text": [
      "fetching all posts of a profile hyatt\n"
     ]
    }
   ],
   "source": [
    "profile= instaloader.Profile.from_username(L.context,\"hyatt\")\n",
    "post_list=[]\n",
    "\n",
    "# hilton의 모든 post를 한 번 뽑아보도록 하겠습니다\n",
    "print(\"fetching all posts of a profile {}\".format(profile.username))"
   ]
  },
  {
   "cell_type": "code",
   "execution_count": null,
   "metadata": {},
   "outputs": [
    {
     "name": "stderr",
     "output_type": "stream",
     "text": [
      "963it [00:39, 31.17it/s]"
     ]
    },
    {
     "name": "stdout",
     "output_type": "stream",
     "text": [
      "\n",
      "Too many queries in the last time. Need to wait 622 seconds, until 21:18.\n"
     ]
    },
    {
     "name": "stderr",
     "output_type": "stream",
     "text": [
      "\r",
      "963it [00:50, 31.17it/s]"
     ]
    }
   ],
   "source": [
    "import pandas as pd \n",
    "import tqdm\n",
    "contend_list=[]\n",
    "post_list=[]\n",
    "for post in tqdm.tqdm(profile.get_posts()):\n",
    "    contend_list.append([post.date,post.caption])\n",
    "    \n",
    "df=pd.DataFrame(contend_list,columns=[\"date\",\"caption\"])\n",
    "df.to_csv(\"hyatt_post\",encoding=\"utf-8\")\n",
    "df.head()"
   ]
  },
  {
   "cell_type": "code",
   "execution_count": null,
   "metadata": {},
   "outputs": [],
   "source": [
    "profile= instaloader.Profile.from_username(L.context,\"hilton\")\n",
    "post_list=[]\n",
    "\n",
    "# hilton의 모든 post를 한 번 뽑아보도록 하겠습니다\n",
    "print(\"fetching all posts of a profile {}\".format(profile.username))\n",
    "\n",
    "import pandas as pd \n",
    "import tqdm\n",
    "contend_list=[]\n",
    "post_list=[]\n",
    "for post in tqdm.tqdm(profile.get_posts()):\n",
    "    contend_list.append([post.date,post.caption])\n",
    "    \n",
    "df=pd.DataFrame(contend_list,columns=[\"date\",\"caption\"])\n",
    "df.to_csv(\"hilton_caption\",encoding=\"utf-8\")\n",
    "df.head()"
   ]
  },
  {
   "cell_type": "code",
   "execution_count": null,
   "metadata": {},
   "outputs": [],
   "source": [
    "profile= instaloader.Profile.from_username(L.context,\"holidayinn\")\n",
    "post_list=[]\n",
    "\n",
    "# hilton의 모든 post를 한 번 뽑아보도록 하겠습니다\n",
    "print(\"fetching all posts of a profile {}\".format(profile.username))\n",
    "\n",
    "import pandas as pd \n",
    "import tqdm\n",
    "contend_list=[]\n",
    "post_list=[]\n",
    "for post in tqdm.tqdm(profile.get_posts()):\n",
    "    contend_list.append([post.date,post.caption])\n",
    "    \n",
    "df=pd.DataFrame(contend_list,columns=[\"date\",\"caption\"])\n",
    "df.to_csv(\"holiday_post\",encoding=\"utf-8\")\n",
    "df.head()"
   ]
  },
  {
   "cell_type": "code",
   "execution_count": null,
   "metadata": {},
   "outputs": [],
   "source": [
    "profile= instaloader.Profile.from_username(L.context,\"wyndham\")\n",
    "post_list=[]\n",
    "\n",
    "# hilton의 모든 post를 한 번 뽑아보도록 하겠습니다\n",
    "print(\"fetching all posts of a profile {}\".format(profile.username))\n",
    "\n",
    "import pandas as pd \n",
    "import tqdm\n",
    "contend_list=[]\n",
    "post_list=[]\n",
    "for post in tqdm.tqdm(profile.get_posts()):\n",
    "    contend_list.append([post.date,post.caption])\n",
    "    \n",
    "df=pd.DataFrame(contend_list,columns=[\"date\",\"caption\"])\n",
    "df.to_csv(\"wyndham_post\",encoding=\"utf-8\")\n",
    "df.head()"
   ]
  }
 ],
 "metadata": {
  "kernelspec": {
   "display_name": "Python 3",
   "language": "python",
   "name": "python3"
  },
  "language_info": {
   "codemirror_mode": {
    "name": "ipython",
    "version": 3
   },
   "file_extension": ".py",
   "mimetype": "text/x-python",
   "name": "python",
   "nbconvert_exporter": "python",
   "pygments_lexer": "ipython3",
   "version": "3.7.6"
  }
 },
 "nbformat": 4,
 "nbformat_minor": 4
}
