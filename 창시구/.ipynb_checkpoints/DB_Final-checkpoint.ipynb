{
 "cells": [
  {
   "cell_type": "code",
   "execution_count": 2,
   "metadata": {},
   "outputs": [],
   "source": [
    "import pandas as pd \n",
    "import warnings\n",
    "warnings.filterwarnings(\"ignore\",category=DeprecationWarning)"
   ]
  },
  {
   "cell_type": "code",
   "execution_count": 3,
   "metadata": {},
   "outputs": [
    {
     "name": "stdout",
     "output_type": "stream",
     "text": [
      "                  date                                            caption  id  \\\n",
      "0  2020-04-09 16:33:28  Over the past few weeks, we’ve gotten lots of ...   1   \n",
      "1  2020-04-06 12:37:22  One million ‘thank-yous’ to the frontline medi...   2   \n",
      "2  2020-04-03 15:31:01  We’re joining with hotels across the world to ...   3   \n",
      "3  2020-03-11 15:54:11  We tend to lose track of things during a stay ...   4   \n",
      "4  2020-03-09 18:02:10  From Lake Boca to the beach, @bocaresort will ...   5   \n",
      "\n",
      "  profile          type caption_and_hashtags  is_video  view_count  \\\n",
      "0  hilton    GraphVideo                   []      True      1730.0   \n",
      "1  hilton    GraphImage  ['hotelsforheroes']     False         NaN   \n",
      "2  hilton  GraphSidecar             ['hope']     False         NaN   \n",
      "3  hilton    GraphImage                   []     False         NaN   \n",
      "4  hilton    GraphImage                   []     False         NaN   \n",
      "\n",
      "   video_duration  likes  comments                          caption_tag  \\\n",
      "0            30.3    194        29                     ['@doubletree)']   \n",
      "1             NaN    412        19                 ['@AmericanExpress']   \n",
      "2             NaN    418         7                                   []   \n",
      "3             NaN     98         1  ['@embassysuitesstaugustinebeach:']   \n",
      "4             NaN    227         7                      ['@bocaresort']   \n",
      "\n",
      "   real_ugc                                      caption_token  compound  \\\n",
      "0     False  ['Over', 'the', 'past', 'few', 'weeks', ',', '...    0.9100   \n",
      "1     False  ['One', 'million', '‘', 'thank-yous', '’', 'to...    0.9022   \n",
      "2     False  ['We', '’', 're', 'joining', 'with', 'hotels',...    0.8750   \n",
      "3     False  ['We', 'tend', 'to', 'lose', 'track', 'of', 't...   -0.4019   \n",
      "4     False  ['From', 'Lake', 'Boca', 'to', 'the', 'beach',...    0.0000   \n",
      "\n",
      "   positive  negative  \n",
      "0     0.178     0.019  \n",
      "1     0.189     0.000  \n",
      "2     0.312     0.000  \n",
      "3     0.000     0.172  \n",
      "4     0.000     0.000  \n",
      "                  date                                            caption  id  \\\n",
      "0  2020-04-10 14:00:12  World of Hyatt is teaming up with @Headspace t...   1   \n",
      "1  2020-04-08 14:00:12  Caring For Our Community: @RevivalBaltimore is...   2   \n",
      "2  2020-04-06 19:00:10  A reminder to shine a light of hope at all tim...   3   \n",
      "3  2020-04-03 14:00:18                Distance can't stop us from caring.   4   \n",
      "4  2020-03-26 14:59:35  Our doors have been open for over 60 years. Th...   5   \n",
      "\n",
      "  profile        type caption_and_hashtags  is_video  view_count  \\\n",
      "0   hyatt  GraphVideo                   []      True      3275.0   \n",
      "1   hyatt  GraphVideo                   []      True      3008.0   \n",
      "2   hyatt  GraphImage                   []     False         NaN   \n",
      "3   hyatt  GraphVideo                   []      True      5158.0   \n",
      "4   hyatt  GraphImage                   []     False         NaN   \n",
      "\n",
      "   video_duration  likes  comments               caption_tag  real_ugc  \\\n",
      "0          14.000    439        13            ['@Headspace']     False   \n",
      "1          15.500    375        11     ['@RevivalBaltimore']     False   \n",
      "2             NaN   1029         9  ['@hyattregencywaikiki']     False   \n",
      "3          11.433    635        16                        []     False   \n",
      "4             NaN   2684       162                        []     False   \n",
      "\n",
      "                                       caption_token  compound  positive  \\\n",
      "0  ['World', 'of', 'Hyatt', 'is', 'teaming', 'up'...    0.5574     0.121   \n",
      "1  ['Caring', 'For', 'Our', 'Community', ':', 'is...    0.9022     0.229   \n",
      "2  ['A', 'reminder', 'to', 'shine', 'a', 'light',...    0.4404     0.112   \n",
      "3  ['Distance', 'ca', \"n't\", 'stop', 'us', 'from'...    0.6234     0.504   \n",
      "4  ['Our', 'doors', 'have', 'been', 'open', 'for'...    0.0000     0.000   \n",
      "\n",
      "   negative  \n",
      "0     0.046  \n",
      "1     0.056  \n",
      "2     0.000  \n",
      "3     0.000  \n",
      "4     0.000  \n",
      "                  date                                            caption  id  \\\n",
      "0  2020-04-07 12:37:02  Given the uncertainty around COVID-19 and the ...   1   \n",
      "1  2020-03-31 14:09:16  Caring for people is what we do in hospitality...   2   \n",
      "2  2020-03-06 17:10:13  It's finally Friday! Nothing like that #Friday...   3   \n",
      "3  2020-02-27 21:06:10  How many times have you wished for an extra da...   4   \n",
      "4  2020-02-24 15:00:10  An extra day means more laughs, more fun, and ...   5   \n",
      "\n",
      "      profile        type                               caption_and_hashtags  \\\n",
      "0  holidayinn  GraphImage                                                 []   \n",
      "1  holidayinn  GraphVideo         ['ihg', 'truehospitality', 'lightsoflove']   \n",
      "2  holidayinn  GraphImage  ['fridayfeeling', 'bethereirl', 'holidayinnres...   \n",
      "3  holidayinn  GraphImage                                                 []   \n",
      "4  holidayinn  GraphImage                         ['leapyear', 'bethereirl']   \n",
      "\n",
      "   is_video  view_count  video_duration  likes  comments  \\\n",
      "0     False         NaN             NaN    284         9   \n",
      "1      True      2184.0            58.1    332        26   \n",
      "2     False         NaN             NaN    239         3   \n",
      "3     False         NaN             NaN    252         5   \n",
      "4     False         NaN             NaN    355         6   \n",
      "\n",
      "                 caption_tag  real_ugc  \\\n",
      "0                         []     False   \n",
      "1                         []     False   \n",
      "2                  ['@kel3']     False   \n",
      "3      ['@_beccajanderson!']     False   \n",
      "4  ['@rollingalongwithkids']     False   \n",
      "\n",
      "                                       caption_token  compound  positive  \\\n",
      "0  ['Given', 'the', 'uncertainty', 'around', 'COV...   -0.2500     0.050   \n",
      "1  ['Caring', 'for', 'people', 'is', 'what', 'we'...    0.8055     0.228   \n",
      "2  ['It', \"'s\", 'finally', 'Friday', '!', 'Nothin...   -0.1032     0.089   \n",
      "3  ['How', 'many', 'times', 'have', 'you', 'wishe...    0.9178     0.295   \n",
      "4  ['An', 'extra', 'day', 'means', 'more', 'laugh...    0.8537     0.272   \n",
      "\n",
      "   negative  \n",
      "0     0.092  \n",
      "1     0.000  \n",
      "2     0.107  \n",
      "3     0.000  \n",
      "4     0.000  \n",
      "                  date                                            caption  id  \\\n",
      "0  2020-03-25 14:24:25  The safety of our guests and team members arou...   1   \n",
      "1  2020-03-11 17:17:22  After spending 10 hours hopping from ride to r...   2   \n",
      "2  2020-03-09 16:49:11  The rooftop pool at @wyndhamalbrook was design...   3   \n",
      "3  2020-03-07 17:40:53  Gain a new perspective of a buzzing city witho...   4   \n",
      "4  2020-03-03 16:57:02  Make your break and find your peace. Now throu...   5   \n",
      "\n",
      "   profile          type              caption_and_hashtags  is_video  \\\n",
      "0  wyndham    GraphImage                                []     False   \n",
      "1  wyndham  GraphSidecar  ['wyndham', 'simplycomfortable']     False   \n",
      "2  wyndham    GraphImage  ['wyndham', 'simplycomfortable']     False   \n",
      "3  wyndham  GraphSidecar  ['wyndham', 'simplycomfortable']     False   \n",
      "4  wyndham  GraphSidecar  ['wyndham', 'simplycomfortable']     False   \n",
      "\n",
      "   view_count  video_duration  likes  comments  \\\n",
      "0         NaN             NaN    133         9   \n",
      "1         NaN             NaN     67         5   \n",
      "2         NaN             NaN     63         3   \n",
      "3         NaN             NaN     96         3   \n",
      "4         NaN             NaN     78         1   \n",
      "\n",
      "                                      caption_tag  real_ugc  \\\n",
      "0                                              []     False   \n",
      "1                            ['@wyndhamanaheim.']     False   \n",
      "2          ['@wyndhamalbrook', '@marcodaniel120']      True   \n",
      "3  ['@fernwehphotography99', '@wyndhammelbourne']      True   \n",
      "4                                              []     False   \n",
      "\n",
      "                                       caption_token  compound  positive  \\\n",
      "0  ['The', 'safety', 'of', 'our', 'guests', 'and'...    0.9477     0.346   \n",
      "1  ['After', 'spending', '10', 'hours', 'hopping'...    0.7269     0.217   \n",
      "2  ['The', 'rooftop', 'pool', 'at', 'was', 'desig...    0.3612     0.185   \n",
      "3  ['Gain', 'a', 'new', 'perspective', 'of', 'a',...    0.7096     0.282   \n",
      "4  ['Make', 'your', 'break', 'and', 'find', 'your...    0.7783     0.228   \n",
      "\n",
      "   negative  \n",
      "0       0.0  \n",
      "1       0.0  \n",
      "2       0.0  \n",
      "3       0.0  \n",
      "4       0.0  \n"
     ]
    }
   ],
   "source": [
    "hilton = pd.read_csv(\"hiltont_final\")\n",
    "hyatt=pd.read_csv(\"hyattt_final\")\n",
    "holiday=pd.read_csv(\"holiday_final\")\n",
    "wyndham=pd.read_csv(\"wyndham_final\")\n",
    "\n",
    "print(hilton.head())\n",
    "print(hyatt.head())\n",
    "print(holiday.head())\n",
    "print(wyndham.head())"
   ]
  },
  {
   "cell_type": "code",
   "execution_count": 4,
   "metadata": {},
   "outputs": [
    {
     "name": "stdout",
     "output_type": "stream",
     "text": [
      "(2579, 17)\n"
     ]
    }
   ],
   "source": [
    "# 전체를 하나의 데이터로 합치겠습니다. \n",
    "final_df=pd.concat([hilton,hyatt,holiday,wyndham],axis=0)\n",
    "print(final_df.shape)"
   ]
  },
  {
   "cell_type": "code",
   "execution_count": 7,
   "metadata": {
    "scrolled": true
   },
   "outputs": [
    {
     "data": {
      "text/plain": [
       "hyatt         1461\n",
       "holidayinn     669\n",
       "wyndham        380\n",
       "hilton          69\n",
       "Name: profile, dtype: int64"
      ]
     },
     "execution_count": 7,
     "metadata": {},
     "output_type": "execute_result"
    }
   ],
   "source": [
    "final_df['profile'].value_counts()"
   ]
  },
  {
   "cell_type": "markdown",
   "metadata": {},
   "source": [
    "final_data 저장 "
   ]
  },
  {
   "cell_type": "code",
   "execution_count": 8,
   "metadata": {},
   "outputs": [],
   "source": [
    "final_df.to_csv(\"final_DB\",index=False)"
   ]
  },
  {
   "cell_type": "code",
   "execution_count": 10,
   "metadata": {},
   "outputs": [
    {
     "data": {
      "text/html": [
       "<div>\n",
       "<style scoped>\n",
       "    .dataframe tbody tr th:only-of-type {\n",
       "        vertical-align: middle;\n",
       "    }\n",
       "\n",
       "    .dataframe tbody tr th {\n",
       "        vertical-align: top;\n",
       "    }\n",
       "\n",
       "    .dataframe thead th {\n",
       "        text-align: right;\n",
       "    }\n",
       "</style>\n",
       "<table border=\"1\" class=\"dataframe\">\n",
       "  <thead>\n",
       "    <tr style=\"text-align: right;\">\n",
       "      <th></th>\n",
       "      <th>post_id</th>\n",
       "      <th>comment_token</th>\n",
       "      <th>compound</th>\n",
       "      <th>positive</th>\n",
       "      <th>negative</th>\n",
       "    </tr>\n",
       "  </thead>\n",
       "  <tbody>\n",
       "    <tr>\n",
       "      <th>0</th>\n",
       "      <td>1</td>\n",
       "      <td>[['❤️❤️❤️', '💙🍪'], ['👏', 'we', \"'re\", 'pretty'...</td>\n",
       "      <td>[0.0, 0.7088, 0.75, 0.7034, 0.4003, 0.7249, 0....</td>\n",
       "      <td>[0.0, 0.596, 0.444, 0.492, 0.165, 0.281, 0.625...</td>\n",
       "      <td>[0.0, 0.0, 0.0, 0.0, 0.08, 0.0, 0.0, 0.0, 0.0,...</td>\n",
       "    </tr>\n",
       "    <tr>\n",
       "      <th>1</th>\n",
       "      <td>2</td>\n",
       "      <td>[['This', 'is', 'awesome', '!', '!', '!', '👏👏👏...</td>\n",
       "      <td>[0.8302, 0.4738, 0.0, 0.0, 0.0, -0.4404, 0.0, ...</td>\n",
       "      <td>[0.66, 0.755, 0.0, 0.0, 0.0, 0.087, 0.0, 0.0, ...</td>\n",
       "      <td>[0.0, 0.0, 0.0, 0.0, 0.0, 0.133, 0.0, 0.0, 0.0...</td>\n",
       "    </tr>\n",
       "    <tr>\n",
       "      <th>2</th>\n",
       "      <td>3</td>\n",
       "      <td>[['Build', 'with', 'immortal', 'love', '👑'], [...</td>\n",
       "      <td>[0.7351, 0.0, 0.0, 0.5673, 0.0]</td>\n",
       "      <td>[0.756, 0.0, 0.0, 0.196, 0.0]</td>\n",
       "      <td>[0.0, 0.0, 0.0, 0.0, 0.0]</td>\n",
       "    </tr>\n",
       "    <tr>\n",
       "      <th>3</th>\n",
       "      <td>4</td>\n",
       "      <td>[['.', '.', '.', '.', '#', 'staugustine', '#',...</td>\n",
       "      <td>[0.0]</td>\n",
       "      <td>[0.0]</td>\n",
       "      <td>[0.0]</td>\n",
       "    </tr>\n",
       "    <tr>\n",
       "      <th>4</th>\n",
       "      <td>5</td>\n",
       "      <td>[['.', '.', '.', '.', '#', 'boca', '#', 'bocar...</td>\n",
       "      <td>[0.4939, 0.0, 0.5994]</td>\n",
       "      <td>[0.198, 0.0, 1.0]</td>\n",
       "      <td>[0.0, 0.0, 0.0]</td>\n",
       "    </tr>\n",
       "  </tbody>\n",
       "</table>\n",
       "</div>"
      ],
      "text/plain": [
       "   post_id                                      comment_token  \\\n",
       "0        1  [['❤️❤️❤️', '💙🍪'], ['👏', 'we', \"'re\", 'pretty'...   \n",
       "1        2  [['This', 'is', 'awesome', '!', '!', '!', '👏👏👏...   \n",
       "2        3  [['Build', 'with', 'immortal', 'love', '👑'], [...   \n",
       "3        4  [['.', '.', '.', '.', '#', 'staugustine', '#',...   \n",
       "4        5  [['.', '.', '.', '.', '#', 'boca', '#', 'bocar...   \n",
       "\n",
       "                                            compound  \\\n",
       "0  [0.0, 0.7088, 0.75, 0.7034, 0.4003, 0.7249, 0....   \n",
       "1  [0.8302, 0.4738, 0.0, 0.0, 0.0, -0.4404, 0.0, ...   \n",
       "2                    [0.7351, 0.0, 0.0, 0.5673, 0.0]   \n",
       "3                                              [0.0]   \n",
       "4                              [0.4939, 0.0, 0.5994]   \n",
       "\n",
       "                                            positive  \\\n",
       "0  [0.0, 0.596, 0.444, 0.492, 0.165, 0.281, 0.625...   \n",
       "1  [0.66, 0.755, 0.0, 0.0, 0.0, 0.087, 0.0, 0.0, ...   \n",
       "2                      [0.756, 0.0, 0.0, 0.196, 0.0]   \n",
       "3                                              [0.0]   \n",
       "4                                  [0.198, 0.0, 1.0]   \n",
       "\n",
       "                                            negative  \n",
       "0  [0.0, 0.0, 0.0, 0.0, 0.08, 0.0, 0.0, 0.0, 0.0,...  \n",
       "1  [0.0, 0.0, 0.0, 0.0, 0.0, 0.133, 0.0, 0.0, 0.0...  \n",
       "2                          [0.0, 0.0, 0.0, 0.0, 0.0]  \n",
       "3                                              [0.0]  \n",
       "4                                    [0.0, 0.0, 0.0]  "
      ]
     },
     "execution_count": 10,
     "metadata": {},
     "output_type": "execute_result"
    }
   ],
   "source": [
    "hilton = pd.read_csv(\"hilton_comment_final\")\n",
    "hyatt=pd.read_csv(\"hyatt_comment_final\")\n",
    "holiday=pd.read_csv(\"holiday_comment_final\")\n",
    "wyndham=pd.read_csv(\"wyndham_comment_final\")\n",
    "hilton.head()"
   ]
  },
  {
   "cell_type": "code",
   "execution_count": 12,
   "metadata": {},
   "outputs": [],
   "source": [
    "hilton[\"Profile\"]=\"hilton\"\n",
    "hyatt[\"Profile\"]=\"hyatt\"\n",
    "holiday[\"Profile\"]=\"holiday_inn\"\n",
    "wyndham[\"Profile\"]=\"wyndham\""
   ]
  },
  {
   "cell_type": "code",
   "execution_count": 13,
   "metadata": {},
   "outputs": [
    {
     "name": "stdout",
     "output_type": "stream",
     "text": [
      "hyatt          1461\n",
      "holiday_inn     669\n",
      "wyndham         380\n",
      "hilton           69\n",
      "Name: Profile, dtype: int64\n"
     ]
    }
   ],
   "source": [
    "final_df=pd.concat([hilton,hyatt,holiday,wyndham],axis=0)\n",
    "print(final_df[\"Profile\"].value_counts())"
   ]
  },
  {
   "cell_type": "code",
   "execution_count": 14,
   "metadata": {},
   "outputs": [],
   "source": [
    "final_df.to_csv(\"final_comment_DB\",index=False)"
   ]
  }
 ],
 "metadata": {
  "kernelspec": {
   "display_name": "Python 3",
   "language": "python",
   "name": "python3"
  },
  "language_info": {
   "codemirror_mode": {
    "name": "ipython",
    "version": 3
   },
   "file_extension": ".py",
   "mimetype": "text/x-python",
   "name": "python",
   "nbconvert_exporter": "python",
   "pygments_lexer": "ipython3",
   "version": "3.6.10"
  }
 },
 "nbformat": 4,
 "nbformat_minor": 4
}
