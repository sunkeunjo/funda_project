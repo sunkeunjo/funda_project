{
 "cells": [
  {
   "cell_type": "markdown",
   "metadata": {},
   "source": [
    "# 창시구\n",
    "\n",
    "인스타그램 콘텐츠 방식에 따른 고객 인식 변화 확인\n",
    "\n",
    "- [] 데이터 크롤링 (~4/15) \n",
    "\n",
    "- [] 데이터 전처리 (~4/30: 기본적언 전처리 및 토픽 모델링과 sentiment analysis를 통한 feature 생성) \n",
    "\n",
    "> 텍스트 마이닝을 통한 토픽 모델링\n",
    "\n",
    "> sentiment analysis\n",
    "\n",
    "> dynamic network analysis (추가)\n",
    "\n",
    "> time-seies analysis (추가)\n",
    "\n",
    "- [] 가설 검정 (~5/10) \n",
    "\n",
    "- [] 전략적 제언 수립 "
   ]
  },
  {
   "cell_type": "markdown",
   "metadata": {},
   "source": []
  }
 ],
 "metadata": {
  "kernelspec": {
   "display_name": "Python 3",
   "language": "python",
   "name": "python3"
  },
  "language_info": {
   "codemirror_mode": {
    "name": "ipython",
    "version": 3
   },
   "file_extension": ".py",
   "mimetype": "text/x-python",
   "name": "python",
   "nbconvert_exporter": "python",
   "pygments_lexer": "ipython3",
   "version": "3.7.1"
  }
 },
 "nbformat": 4,
 "nbformat_minor": 2
}
