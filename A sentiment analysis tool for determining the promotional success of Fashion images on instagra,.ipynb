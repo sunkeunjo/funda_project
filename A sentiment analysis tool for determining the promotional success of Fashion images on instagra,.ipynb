{
 "cells": [
  {
   "cell_type": "markdown",
   "metadata": {},
   "source": [
    "A sentiment analysis tool for determining the promotional success of Fashion images on instagram\n",
    "*Dahab et al(2017)\n",
    "____\n",
    "\n",
    "#  abstract \n",
    "\n",
    "본 논문에서는 50개의 패션 회사들 중 가장 좋아요를 많이 받은 20개의 이미지를 이용하여 social media에서 사람들에게 반응을 이끌어내는 요소가 무엇인지를 알아보는 방향으로 연구가 진행되었다.   \n",
    "본 논문에서 정의한 \"Social Value\"는 사람들에게 반응을 가장 많이 일으키는 시각적인 요소이며 이를 측정하기 위해서 각 이미지의 sentiment analysis를 진행하였다. 이 때 사용한 데이터는 이미지의 comments들이 들어갔고 이를 전처리 하기 위해서 lexicon을 사용하여 각 단어가 가지고 있는 valence(positive negative)를 확인하였다. 이를 통해  각 comment사 positive한지 negative한지 아니면 아무 효과가 없는지를 측정하는 score를 뽑아내었다. 여기에 추가하여 the number of likes and shares가 이미지의 가치를 측정하는데 역시 고려되었다. \n",
    "\n",
    "* 크게 comment의 sentiment, the number of likes, the number of shares가 이미지의 가치(social value)를 측정하는데 사용되었다.\n",
    "\n",
    "# 1. 서론 \n",
    "\n",
    "이 논문에서 살펴본 LR들은 다음과 같다.\n",
    "\n",
    "* sentiment analysis에 사용되는 많은 기법들 \n",
    "* machine learning and lexicon -based approaches 에 대한 대략적인 개요\n",
    "* unsupervised sentiment analysis in social media \n",
    "\n",
    "\n",
    "# 2. Literature Review \n",
    "\n",
    "opinion의 valence를 측정하는데는 두가지 방법이 존재한다. \n",
    "\n",
    "## machine learning method \n",
    "그리고 이 머신러닝 방법은 다시 (supervised learning, semi-supervised learning and unsupervised learnging)으로 나뉩니다. 그리고 각 상황에 따라 사용되는 기법들은 아래와 같다. \n",
    "> * supervised learning : Naive Bayes, Support vector machines, and multi-layer perceptron 등이 사용되며 이러한 기법들은 추후 __label이 없거나 모르는 input이 들어올 때 그것의 opinion valence가 무엇인지 예측하는데 주로 사용이 됩니다.__       \n",
    "*  Unsupervised learning : LDA,PLSA,와 같은 알고리즘들이 사용되며 추후 __document가 가지고 있는 hidden topic을 유추하는데 주로 사용됩니다.__ 이 기법의 단점으로는 data가 유용하고 의미가 있는 정보를 주게 학습하기 위해서는 많은 양의 데이터가 필요하다는 점입니다.   \n",
    "* Semi-supervised learning: 은 위 두 기법의 단점을 보안하기 위해서 고안된 것입니다. 아주 적은 양의 label 데이터를 가지고 있다면 이는 곳 unlabeled data에 적용할 수 있기에 유용할 수 있습니다. \n",
    "\n",
    "\n",
    "## lexicon based method\n",
    "위의 3가지의 기법을 사용하지 않았을 경우 많이 사용되는 기법입니다. 이 방법에는 2가지의 테크닉이 있는데 아래와 같습니다. \n",
    "> * Dictionary-based-methods : 각 opinion에서 사용된 단어들의 동의어나 반대어를 찾아서 단어에 의미를 부여하는 방법입니다.  \n",
    "* Corpus-based-methods : 단어의 단위가 아닌 corpus의 단위로 뽑히며, 각 corpus가 비슷한 문맥에서 어떠한 단어와 비슷한지를 찾는 방법입니다.\n",
    "\n",
    "이 두가지 방법들 모두 통계적이거나 의미론적 방법에서 종종 사용이 됩니다.\n",
    "> (Paltoglou(2012)에서는 lexicon-based classifier를 제안하며 좀 더 성능이 개선된 emotional valence를 측정 모델을 만들었습니다. 이러한 방법이 나온 이유 중 하나는 unsupervised에서 참조할 만한 corpus가 없어 성능이 떨어지는 경우가 많았기 때문입니다. 이 모델을 통해 comment가 가지고 있는 intensity of emotion을 이 연구에서는 사용하였습니다. document가 이 모델안으로 들어가면 알고리즘에 의하여 이 모델은 emotional 단어들을 찾고 각 단어가 가지고 있는 `polarity`와 `intensity`를 측정하게 됩니다. 그리고 (negation, capitalization, exclamations, and emoticons, intensifiers, and diminishers)등에 의하여 각자 다른 weight가 부과되고 전체 score를 제공해줍니다. \n",
    "(다른 머신러닝 기법들 보다 대부분의 케이스에서 훨씬 좋은 성능을 보인다는 것을 논문에서 밝힘)\n",
    "\n",
    "> Hridoy et al(2015)에서는 트위터 데이터를 사용해 opion의 score를 제공하는 모델을 만들었는데 이때 SNLP를 사용해서 각 단어들 간의 문법적인 관계를 고려하는 과정을 전처리 과정에서 추가하였습니다. 이를 통해서 나온 결과는 각 트윗마다의 sentiment score입니다.\n",
    "\n",
    "Literature review를 통해서 알아본 결과 lexicon-based approaches가 unsupervised learning보다 좀 더 적합함을 알 수 있었습니다.\n",
    "\n",
    "# 3. Proposed Application\n",
    "\n",
    "총 2개의 part로 구성되어 있으며 Data Module 과 semantic analysis module로 구성이 되어 있습니다. data module에서는 인스타그램의 comment들을 긁어오고 이를 preprocessing하여 추후 semantic analysis에 용이한 형태로 구성하고 난뒤에 SNLP tool을 이용하여 comment에 대한 분석후 이미지를 평가한 것이 전체적인 과정입니다. 이 떄도 역시 API를 사용하였군요\n",
    "\n",
    "## Pre-processing\n",
    "\n",
    "* 우선 가장 먼저한 것이 comment 별 불용어 처리 입니다. \n",
    "* 불용어 처리에서 Emojis, punctuations, spaces와 같은 모델의 측정요소에 반하는 것들은 없애줍니다. \n",
    "* 그 다음 comment가 opinonated인지 아닌지를 판단합니다. (이 떄 사용되는 것이 단어들 사이의 관계입니다) \n",
    ">  nsubj, amod,\n",
    "and dobj will be used to eliminate any non-opinionated comments\n",
    "\n",
    "\n",
    "## Sentiment Analysis model \n",
    "\n"
   ]
  },
  {
   "cell_type": "code",
   "execution_count": 10,
   "metadata": {},
   "outputs": [
    {
     "data": {
      "text/plain": [
       "['Fred']"
      ]
     },
     "execution_count": 10,
     "metadata": {},
     "output_type": "execute_result"
    }
   ],
   "source": [
    "sorted(list(dict_phone.keys()))"
   ]
  }
 ],
 "metadata": {
  "kernelspec": {
   "display_name": "Python 3",
   "language": "python",
   "name": "python3"
  },
  "language_info": {
   "codemirror_mode": {
    "name": "ipython",
    "version": 3
   },
   "file_extension": ".py",
   "mimetype": "text/x-python",
   "name": "python",
   "nbconvert_exporter": "python",
   "pygments_lexer": "ipython3",
   "version": "3.6.10"
  }
 },
 "nbformat": 4,
 "nbformat_minor": 4
}
